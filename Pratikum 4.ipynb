{
  "nbformat": 4,
  "nbformat_minor": 0,
  "metadata": {
    "colab": {
      "provenance": [],
      "authorship_tag": "ABX9TyNIqnaqZnv8iHwF8kRQNAoo",
      "include_colab_link": true
    },
    "kernelspec": {
      "name": "python3",
      "display_name": "Python 3"
    },
    "language_info": {
      "name": "python"
    }
  },
  "cells": [
    {
      "cell_type": "markdown",
      "metadata": {
        "id": "view-in-github",
        "colab_type": "text"
      },
      "source": [
        "<a href=\"https://colab.research.google.com/github/SulthanAlif04/PratikumPertemuan-4/blob/main/Pratikum%204.ipynb\" target=\"_parent\"><img src=\"https://colab.research.google.com/assets/colab-badge.svg\" alt=\"Open In Colab\"/></a>"
      ]
    },
    {
      "cell_type": "code",
      "execution_count": 1,
      "metadata": {
        "colab": {
          "base_uri": "https://localhost:8080/"
        },
        "id": "RqlWpzlvZf0_",
        "outputId": "2309f05a-ab50-4313-d0dd-689c73650535"
      },
      "outputs": [
        {
          "output_type": "stream",
          "name": "stdout",
          "text": [
            "Masukkan sebuah angka: 7\n",
            "Bukan kelipatan 5\n",
            "Masukkan tahun: 2022\n",
            "2022 bukan tahun kabisat\n",
            "Program Menentukan Jenis Segitiga\n",
            "Masukkan panjang ketiga sisi segitiga:\n",
            "Sisi a: 2\n",
            "Sisi b: 3\n",
            "Sisi c: 4\n",
            "Segitiga Sembarang\n",
            "Masukkan angka bulan (1-12): 10\n",
            "Oktober\n",
            "Masukkan jam (0-23): 20\n",
            "Selamat Malam\n"
          ]
        }
      ],
      "source": [
        "# Program 1: Mengecek Kelipatan 5\n",
        "angka = int(input(\"Masukkan sebuah angka: \"))\n",
        "\n",
        "if angka % 5 == 0:\n",
        "    print(\"Kelipatan 5\")\n",
        "else:\n",
        "    print(\"Bukan kelipatan 5\")\n",
        "\n",
        "    # Program 2: Menentukan Tahun Kabisat\n",
        "tahun = int(input(\"Masukkan tahun: \"))\n",
        "\n",
        "if tahun % 400 == 0:\n",
        "    print(f\"{tahun} adalah tahun kabisat\")\n",
        "elif tahun % 4 == 0 and tahun % 100 != 0:\n",
        "    print(f\"{tahun} adalah tahun kabisat\")\n",
        "else:\n",
        "    print(f\"{tahun} bukan tahun kabisat\")\n",
        "\n",
        "# Program 3: Menentukan Jenis Segitiga\n",
        "print(\"Program Menentukan Jenis Segitiga\")\n",
        "print(\"Masukkan panjang ketiga sisi segitiga:\")\n",
        "\n",
        "a = float(input(\"Sisi a: \"))\n",
        "b = float(input(\"Sisi b: \"))\n",
        "c = float(input(\"Sisi c: \"))\n",
        "\n",
        "# Cek apakah membentuk segitiga\n",
        "if a + b > c and a + c > b and b + c > a:\n",
        "    if a == b == c:\n",
        "        print(\"Segitiga Sama Sisi\")\n",
        "    elif a == b or a == c or b == c:\n",
        "        print(\"Segitiga Sama Kaki\")\n",
        "    elif a**2 + b**2 == c**2 or a**2 + c**2 == b**2 or b**2 + c**2 == a**2:\n",
        "        print(\"Segitiga Siku-siku\")\n",
        "    else:\n",
        "        print(\"Segitiga Sembarang\")\n",
        "else:\n",
        "    print(\"Tidak dapat membentuk segitiga\")\n",
        "\n",
        "    # Program 4: Konversi Angka ke Nama Bulan\n",
        "bulan = int(input(\"Masukkan angka bulan (1-12): \"))\n",
        "\n",
        "if bulan == 1:\n",
        "    print(\"Januari\")\n",
        "elif bulan == 2:\n",
        "    print(\"Februari\")\n",
        "elif bulan == 3:\n",
        "    print(\"Maret\")\n",
        "elif bulan == 4:\n",
        "    print(\"April\")\n",
        "elif bulan == 5:\n",
        "    print(\"Mei\")\n",
        "elif bulan == 6:\n",
        "    print(\"Juni\")\n",
        "elif bulan == 7:\n",
        "    print(\"Juli\")\n",
        "elif bulan == 8:\n",
        "    print(\"Agustus\")\n",
        "elif bulan == 9:\n",
        "    print(\"September\")\n",
        "elif bulan == 10:\n",
        "    print(\"Oktober\")\n",
        "elif bulan == 11:\n",
        "    print(\"November\")\n",
        "elif bulan == 12:\n",
        "    print(\"Desember\")\n",
        "else:\n",
        "    print(\"Input salah\")\n",
        "\n",
        "    # Program 5: Salam berdasarkan Jam\n",
        "jam = int(input(\"Masukkan jam (0-23): \"))\n",
        "\n",
        "if jam >= 0 and jam <= 11:\n",
        "    print(\"Selamat Pagi\")\n",
        "elif jam >= 12 and jam <= 15:\n",
        "    print(\"Selamat Siang\")\n",
        "elif jam >= 16 and jam <= 18:\n",
        "    print(\"Selamat Sore\")\n",
        "elif jam >= 19 and jam <= 23:\n",
        "    print(\"Selamat Malam\")\n",
        "else:\n",
        "    print(\"Input jam tidak valid\")\n",
        "\n"
      ]
    }
  ]
}